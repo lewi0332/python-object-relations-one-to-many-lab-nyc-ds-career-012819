{
 "cells": [
  {
   "cell_type": "markdown",
   "metadata": {},
   "source": [
    "# Python Object Relationships - One to Many"
   ]
  },
  {
   "cell_type": "markdown",
   "metadata": {},
   "source": [
    "## Introduction\n",
    "In this lab we are going to practice creating a one to many relationship. We've learned how a belongs to relationship works -- with the \"belongs to\" class knowing the one instance it is associated with. Now, what if we think about it from the other side? Let's say we are talking about a `Person` class and a `Dog` class. We know the `Dog` belongs to one `Person`, but that doesn't mean the person can't have more than one dog, right?"
   ]
  },
  {
   "cell_type": "markdown",
   "metadata": {},
   "source": [
    "![dog gif](https://s3.amazonaws.com/learn-verified/data-science-assets/two-dogs.gif)"
   ]
  },
  {
   "cell_type": "markdown",
   "metadata": {},
   "source": [
    "So, a dog still needs to know who its owner is, but now we know that an owner can also have **many** dogs. Let's get started!"
   ]
  },
  {
   "cell_type": "markdown",
   "metadata": {},
   "source": [
    "## Objectives\n",
    "* Create a one to many domain model\n",
    "* Practice querying an instance to demonstrate the one to many relationship\n",
    "* Define a second one to many domain and create instance methods that again demonstrate the one to many relationship"
   ]
  },
  {
   "cell_type": "markdown",
   "metadata": {},
   "source": [
    "## Defining Our Classes"
   ]
  },
  {
   "cell_type": "markdown",
   "metadata": {},
   "source": [
    "Let's start by defining two classes, `Owner` and `Car`. \n",
    "* An owner should be instantiated with a `name` and an `age`. \n",
    "* A car should be instantiated with a `make`, `model`, and `year`. \n",
    "* The relationship between the two classes should be such that an owner has many cars and a car belongs to an owner. It is our job to make sure our classes and instances are set up to show this. \n",
    "* Think about which class(es) also must have an `_all` class variable, and be sure to have setter and getter (read and write) instance methods for each attribute for an owner and for a car as well as a class method that returns the `_all` list."
   ]
  },
  {
   "cell_type": "code",
   "execution_count": 3,
   "metadata": {},
   "outputs": [],
   "source": [
    "class Owner:\n",
    "    def __init__(self, name, age):\n",
    "        self._name = name\n",
    "        self._age = age\n",
    "    \n",
    "    @property\n",
    "    def name(self):\n",
    "        return self._name\n",
    "    \n",
    "    @name.setter\n",
    "    def name(self, name):\n",
    "        self._name = name\n",
    "        \n",
    "    @property\n",
    "    def age(self):\n",
    "        return self._age\n",
    "    \n",
    "    @age.setter\n",
    "    def age(self, age):\n",
    "        self._age = age\n",
    "        \n",
    "        \n",
    "    def find_my_cars(self):\n",
    "        temp = []\n",
    "        for i in range(len(Car._all)):\n",
    "            if Car._all[i].owner == self:\n",
    "                temp.append(str(Car._all[i].make)+' '+str(Car._all[i].model))\n",
    "        return temp\n",
    "    \n"
   ]
  },
  {
   "cell_type": "code",
   "execution_count": 4,
   "metadata": {},
   "outputs": [],
   "source": [
    "jake = Owner(\"Jake\", 25)\n",
    "jess = Owner(\"Jess\", 29)\n",
    "alexa = Owner(\"Alexa\", 33)\n",
    "pete = Owner(\"Pete\", 30)"
   ]
  },
  {
   "cell_type": "code",
   "execution_count": 5,
   "metadata": {},
   "outputs": [],
   "source": [
    "class Car:\n",
    "    _all = []\n",
    "\n",
    "    def __init__(self, make, model, year, owner):\n",
    "        self._make = make\n",
    "        self._model = model\n",
    "        self._year = year\n",
    "        self._owner = owner\n",
    "        Car._all.append(self)\n",
    "        \n",
    "    @property\n",
    "    def make(self):\n",
    "        return self._make\n",
    "    \n",
    "    @make.setter\n",
    "    def make(self, make):\n",
    "        self._make = make\n",
    "        \n",
    "    @property\n",
    "    def model(self):\n",
    "        return self._model\n",
    "    \n",
    "    @model.setter\n",
    "    def model(self, model):\n",
    "        self._model = model\n",
    "    \n",
    "    @property\n",
    "    def year(self):\n",
    "        return self._year\n",
    "    \n",
    "    @year.setter\n",
    "    def year(self, year):\n",
    "        self._year = year\n",
    "        \n",
    "    @property\n",
    "    def owner(self):\n",
    "        return self._owner\n",
    "    \n",
    "    @owner.setter\n",
    "    def owner(self, owner):\n",
    "        self._owner = owner\n",
    "        \n",
    "    @classmethod\n",
    "    def all(cls):\n",
    "        return cls._all\n",
    "        \n",
    "#remember to associate a car with its owner\n",
    "# create several instances of the Car class and associate them to owners. \n",
    "# remember owners can have more than one car associated with them, but a car can only have one owner"
   ]
  },
  {
   "cell_type": "code",
   "execution_count": 6,
   "metadata": {},
   "outputs": [],
   "source": [
    "car_1 = Car('Toyota', 'Camry', 2010, jake)"
   ]
  },
  {
   "cell_type": "code",
   "execution_count": 7,
   "metadata": {},
   "outputs": [],
   "source": [
    "car_2 = Car('Volkswagon', 'Jetta', 2016, jess)"
   ]
  },
  {
   "cell_type": "code",
   "execution_count": 8,
   "metadata": {},
   "outputs": [],
   "source": [
    "car_3 = Car('Volvo', 'XC70', 2018, alexa)"
   ]
  },
  {
   "cell_type": "code",
   "execution_count": 9,
   "metadata": {},
   "outputs": [],
   "source": [
    "car_4 = Car('Dodge', 'Caravan', 2018, pete)"
   ]
  },
  {
   "cell_type": "code",
   "execution_count": 10,
   "metadata": {},
   "outputs": [],
   "source": [
    "car_5 = Car('Delorian', 'Time Machine', 1985, jake)"
   ]
  },
  {
   "cell_type": "code",
   "execution_count": 11,
   "metadata": {},
   "outputs": [],
   "source": [
    "car_6 = Car('Ford', 'Torino', 1974, jess)"
   ]
  },
  {
   "cell_type": "code",
   "execution_count": 12,
   "metadata": {},
   "outputs": [],
   "source": [
    "car_7 = Car('Kia', 'Sorento', 2018, jess)"
   ]
  },
  {
   "cell_type": "code",
   "execution_count": 13,
   "metadata": {},
   "outputs": [
    {
     "name": "stdout",
     "output_type": "stream",
     "text": [
      "[<__main__.Car object at 0x7fb0916ff9b0>, <__main__.Car object at 0x7fb0916ffb70>, <__main__.Car object at 0x7fb0916ffba8>, <__main__.Car object at 0x7fb0916ffc18>, <__main__.Car object at 0x7fb0916ffd30>, <__main__.Car object at 0x7fb0916ffe80>, <__main__.Car object at 0x7fb0916fff98>]\n"
     ]
    }
   ],
   "source": [
    "print(Car._all)"
   ]
  },
  {
   "cell_type": "code",
   "execution_count": 14,
   "metadata": {},
   "outputs": [
    {
     "data": {
      "text/plain": [
       "'Alexa'"
      ]
     },
     "execution_count": 14,
     "metadata": {},
     "output_type": "execute_result"
    }
   ],
   "source": [
    "Car._all[2].owner.name"
   ]
  },
  {
   "cell_type": "code",
   "execution_count": 15,
   "metadata": {},
   "outputs": [
    {
     "data": {
      "text/plain": [
       "['Dodge Caravan']"
      ]
     },
     "execution_count": 15,
     "metadata": {},
     "output_type": "execute_result"
    }
   ],
   "source": [
    "pete.find_my_cars()"
   ]
  },
  {
   "cell_type": "code",
   "execution_count": 16,
   "metadata": {},
   "outputs": [
    {
     "name": "stdout",
     "output_type": "stream",
     "text": [
      "Volkswagon Jetta\n"
     ]
    }
   ],
   "source": [
    "print((Car._all[1].make)+' '+str(Car._all[1].model))"
   ]
  },
  {
   "cell_type": "markdown",
   "metadata": {},
   "source": [
    "## Querying For Our Cars"
   ]
  },
  {
   "cell_type": "markdown",
   "metadata": {},
   "source": [
    "Okay, now that we have our classes set up, let's stat to work with them. Let's say Alexa and Pete both have several cars and it has gotten to the point that they are forgetting about some of them -- like when winter is over and you're re-discovering the bathing suits you stuffed into the abyss of your closet. Yes, Alexa and Pete are doing well for themselves.\n",
    "Since we don't want them to lose track of their cars, let's write an instance method that prints out the makes and models of each car that they own, respectively. Let's call this method `find_my_cars`. It should return a list of strings which are the name of the car's make concatenated with the car's model. (i.e. `[\"Toyota Highlander\", \"Audi Q7\", \"Jeep Wrangler\"]`)"
   ]
  },
  {
   "cell_type": "code",
   "execution_count": 17,
   "metadata": {},
   "outputs": [
    {
     "data": {
      "text/plain": [
       "['Volvo XC70']"
      ]
     },
     "execution_count": 17,
     "metadata": {},
     "output_type": "execute_result"
    }
   ],
   "source": [
    "alexa.find_my_cars()"
   ]
  },
  {
   "cell_type": "code",
   "execution_count": 18,
   "metadata": {},
   "outputs": [
    {
     "data": {
      "text/plain": [
       "['Dodge Caravan']"
      ]
     },
     "execution_count": 18,
     "metadata": {},
     "output_type": "execute_result"
    }
   ],
   "source": [
    "pete.find_my_cars()"
   ]
  },
  {
   "cell_type": "markdown",
   "metadata": {},
   "source": [
    "Great work! Now, let's try this out with another domain to get even more practice. Let's work with a `Driver` and a `Trip` class. \n",
    "* The relationship between the two should be that a driver has many trips and that a trip belongs to one driver. \n",
    "* A driver should be instantiated with at least a *name* and a trip should be instantiated with at least a start and a destination (i.e. `battery park` to `central park`). \n",
    "* Remember a trip should know which **driver** it belongs to and the Trip class should keep track of all trip instances in the `_all` class variable. \n",
    "* Define the appropriate getter and setter instance methods for both the driver and trip instance objects as well as a class method, `all`, that returns the `_all` list. "
   ]
  },
  {
   "cell_type": "code",
   "execution_count": 2,
   "metadata": {},
   "outputs": [],
   "source": [
    "class Driver:\n",
    "    def __init__(self, name):\n",
    "        self.name = name\n",
    "        \n",
    "    @property\n",
    "    def name(self):\n",
    "        return self._name\n",
    "    \n",
    "    @name.setter\n",
    "    def name(self, name):\n",
    "        self._name = name\n",
    "    \n",
    "    \n",
    "\n",
    "    def my_trips(self):\n",
    "        temp=[]\n",
    "        for i in range(len(Trip._all)):\n",
    "            if Trip._all[i].driver == self:\n",
    "                temp.append(Trip._all[i])\n",
    "        return temp\n",
    "                \n",
    "\n",
    "    def my_trip_summaries(self):\n",
    "        temp=[]\n",
    "        for i in range(len(Trip._all)):\n",
    "            if Trip._all[i].driver == self:\n",
    "                temp.append(str(Trip._all[i].start)+ ' to '+str(Trip._all[i].destination))\n",
    "        return temp"
   ]
  },
  {
   "cell_type": "code",
   "execution_count": 3,
   "metadata": {},
   "outputs": [],
   "source": [
    "steve = Driver(\"Steve\")\n",
    "danielle = Driver(\"Danielle\")\n",
    "hortense = Driver(\"Hortense\")"
   ]
  },
  {
   "cell_type": "code",
   "execution_count": null,
   "metadata": {},
   "outputs": [],
   "source": []
  },
  {
   "cell_type": "code",
   "execution_count": null,
   "metadata": {},
   "outputs": [],
   "source": []
  },
  {
   "cell_type": "code",
   "execution_count": null,
   "metadata": {},
   "outputs": [],
   "source": []
  },
  {
   "cell_type": "code",
   "execution_count": null,
   "metadata": {},
   "outputs": [],
   "source": []
  },
  {
   "cell_type": "code",
   "execution_count": 4,
   "metadata": {},
   "outputs": [],
   "source": [
    "class Trip:\n",
    "    _all = []\n",
    "\n",
    "    def __init__(self, start, destination, driver):\n",
    "        self._start = str(start)\n",
    "        self._destination = str(destination)\n",
    "        self._driver = driver\n",
    "        Trip._all.append(self)\n",
    "       \n",
    "    @property\n",
    "    def start(self):\n",
    "        return self._start\n",
    "    \n",
    "    @start.setter\n",
    "    def start(self, start):\n",
    "        self._start = start\n",
    "        \n",
    "    @property\n",
    "    def destination(self):\n",
    "        return self._destination\n",
    "    \n",
    "    @destination.setter\n",
    "    def destination(self, destination):\n",
    "        self._destination = destination\n",
    "    \n",
    "    @property\n",
    "    def driver(self):\n",
    "        return self._driver\n",
    "\n",
    "    @driver.setter\n",
    "    def driver(self, driver):\n",
    "        self._driver = driver\n",
    "        \n",
    "    @classmethod\n",
    "    def all(cls):\n",
    "        return cls._all\n",
    "    \n",
    "        \n",
    "        \n",
    "    # remember to associate a trip with a driver\n",
    "# create several instances of the Trip class and associate them to drivers. \n",
    "# remember to associate a trip with a driver"
   ]
  },
  {
   "cell_type": "code",
   "execution_count": 5,
   "metadata": {},
   "outputs": [],
   "source": [
    "trip_1 = Trip('Fidi', 'uws', steve)"
   ]
  },
  {
   "cell_type": "code",
   "execution_count": 6,
   "metadata": {},
   "outputs": [],
   "source": [
    "trip_2 = Trip('queens', 'Jersey City', hortense)"
   ]
  },
  {
   "cell_type": "markdown",
   "metadata": {},
   "source": []
  },
  {
   "cell_type": "code",
   "execution_count": 7,
   "metadata": {},
   "outputs": [],
   "source": [
    "trip_3 = Trip('Brooklyn', 'Midtown', danielle)\n",
    "trip_4 = Trip('Bed Stuy', 'Park Slope', hortense)\n",
    "trip_5 = Trip('Astoria', 'Astor Place', steve)"
   ]
  },
  {
   "cell_type": "code",
   "execution_count": 12,
   "metadata": {},
   "outputs": [],
   "source": [
    " trip_1 = Trip(\"11 Broadway, NY, NY\", \"123 Smith Street, BK, NY\", danielle)"
   ]
  },
  {
   "cell_type": "code",
   "execution_count": 13,
   "metadata": {},
   "outputs": [
    {
     "data": {
      "text/plain": [
       "[<__main__.Trip at 0x7fc068390da0>, <__main__.Trip at 0x7fc0683908d0>]"
      ]
     },
     "execution_count": 13,
     "metadata": {},
     "output_type": "execute_result"
    }
   ],
   "source": [
    "Driver.my_trips(hortense)"
   ]
  },
  {
   "cell_type": "code",
   "execution_count": null,
   "metadata": {},
   "outputs": [],
   "source": []
  },
  {
   "cell_type": "markdown",
   "metadata": {},
   "source": [
    "Next, define a driver instance method that returns all the trips instance objects that a driver has given, let's call it `my_trips`. Then define an instance method that returns a list of strings that represent the trips start and end locations for each of those trips (i.e. `[home to work, work to movies]`). Let's call it `my_trip_summaries`."
   ]
  },
  {
   "cell_type": "code",
   "execution_count": 14,
   "metadata": {},
   "outputs": [
    {
     "data": {
      "text/plain": [
       "[<__main__.Trip at 0x7fc068390da0>, <__main__.Trip at 0x7fc0683908d0>]"
      ]
     },
     "execution_count": 14,
     "metadata": {},
     "output_type": "execute_result"
    }
   ],
   "source": [
    "hortense.my_trips()"
   ]
  },
  {
   "cell_type": "code",
   "execution_count": 15,
   "metadata": {},
   "outputs": [
    {
     "data": {
      "text/plain": [
       "[<__main__.Trip at 0x7fc068390860>, <__main__.Trip at 0x7fc068393208>]"
      ]
     },
     "execution_count": 15,
     "metadata": {},
     "output_type": "execute_result"
    }
   ],
   "source": [
    "danielle.my_trips()"
   ]
  },
  {
   "cell_type": "code",
   "execution_count": 16,
   "metadata": {},
   "outputs": [
    {
     "data": {
      "text/plain": [
       "['Fidi to uws', 'Astoria to Astor Place']"
      ]
     },
     "execution_count": 16,
     "metadata": {},
     "output_type": "execute_result"
    }
   ],
   "source": [
    "steve.my_trip_summaries()"
   ]
  },
  {
   "cell_type": "markdown",
   "metadata": {},
   "source": [
    "## Summary\n",
    "Great work! In this lab we practiced creating one to many relationships. We built on the belongs to relationship and were able to make it a bit more interesting by associating more than one instance object with another. We reinforced our knowledge by building out two different one to many domains and built intance methods that returned and operated on the one to many relationships. "
   ]
  },
  {
   "cell_type": "code",
   "execution_count": null,
   "metadata": {},
   "outputs": [],
   "source": []
  }
 ],
 "metadata": {
  "kernelspec": {
   "display_name": "Python 3",
   "language": "python",
   "name": "python3"
  },
  "language_info": {
   "codemirror_mode": {
    "name": "ipython",
    "version": 3
   },
   "file_extension": ".py",
   "mimetype": "text/x-python",
   "name": "python",
   "nbconvert_exporter": "python",
   "pygments_lexer": "ipython3",
   "version": "3.6.6"
  }
 },
 "nbformat": 4,
 "nbformat_minor": 2
}
